{
 "cells": [
  {
   "cell_type": "code",
   "execution_count": 1,
   "metadata": {},
   "outputs": [],
   "source": [
    "import numpy as np\n",
    "import matplotlib.pyplot as plt"
   ]
  },
  {
   "cell_type": "code",
   "execution_count": 2,
   "metadata": {},
   "outputs": [],
   "source": [
    "# Данные константы\n",
    "k = 0.011\n",
    "c = 1.6\n",
    "alpha = 0.5\n",
    "l = 0.5 # длина цилиндра\n",
    "radius = 4 # радиус\n",
    "beta = 0.008\n",
    "t = 180 # время наблюдения"
   ]
  },
  {
   "cell_type": "code",
   "execution_count": 3,
   "metadata": {},
   "outputs": [],
   "source": [
    "# Задаем число отсчетов и шаги\n",
    "num_m = 1000\n",
    "num_i = 1000\n",
    "tau = t/num_m # шаг по времени\n",
    "r_arr = np.linspace(0,l,num_i) # массив точек распредленных [0,R]\n",
    "h = radius/num_i # шаг по координате r\n",
    "w = np.zeros((num_i, num_m))"
   ]
  },
  {
   "cell_type": "code",
   "execution_count": 4,
   "metadata": {},
   "outputs": [],
   "source": [
    "import scipy.optimize\n",
    "def bessel(x):\n",
    "    return scipy.special.jv(0,x)\n",
    "res = scipy.optimize.root(bessel, 2.3) # нахождение нуля функции в окрестности точки x = 2.3\n",
    "mu1 = float(res.get('x'))  # первый нуль функции бесселя нулевого порядка"
   ]
  },
  {
   "cell_type": "code",
   "execution_count": 5,
   "metadata": {},
   "outputs": [],
   "source": [
    "def intensive(i): # интенсивность в i-ой точке\n",
    "    assert i<num_i, \"функция intensive(r) определена только для r<radius\"\n",
    "    return bessel(mu1*i*h/radius)"
   ]
  },
  {
   "cell_type": "code",
   "execution_count": 6,
   "metadata": {
    "scrolled": true
   },
   "outputs": [
    {
     "data": {
      "image/png": "[encoded data removed]",
      "text/plain": [
       "<Figure size 432x288 with 1 Axes>"
      ]
     },
     "metadata": {
      "needs_background": "light"
     },
     "output_type": "display_data"
    }
   ],
   "source": [
    "plt.plot(r_arr,bessel(mu1*r_arr/radius)) #нарисуем интенсивность\n",
    "plt.show()"
   ]
  },
  {
   "cell_type": "code",
   "execution_count": 7,
   "metadata": {},
   "outputs": [],
   "source": [
    "a_const = c/t+4*k/h**2+2*alpha/l\n",
    "b_const = -4*k/h**2\n",
    "def c_const(i):\n",
    "    return -k/h**2 + k/(2*h*i*h)\n",
    "d_const = c/t + 2*k/h**2 + 2*alpha/l\n",
    "def e_const(i):\n",
    "    return -k/h**2 - k/(2*h*i*h)\n",
    "f_const = -2*k/h**2\n",
    "g_const = c/t + 2*k/h**2 + 2*alpha/l\n",
    "h_const = c/t\n",
    "def q_const(i):\n",
    "    return beta/l*intensive(i)"
   ]
  },
  {
   "cell_type": "code",
   "execution_count": 8,
   "metadata": {},
   "outputs": [],
   "source": [
    "P = np.zeros((num_i, num_i))\n",
    "P[0,0] = a_const\n",
    "P[0,1] = b_const\n",
    "for i in range(1,num_i-1):  # по всем индексам кроме нулевого и последнего\n",
    "    P[i,i-1] = c_const(i)\n",
    "    P[i,i] = d_const\n",
    "    P[i,i+1] = e_const(i)\n",
    "P[-1,-2] = f_const\n",
    "P[-1,-1] = g_const"
   ]
  },
  {
   "cell_type": "code",
   "execution_count": 9,
   "metadata": {},
   "outputs": [
    {
     "data": {
      "text/plain": [
       "array([[ 2752.00888889, -2750.        ,     0.        , ...,\n",
       "            0.        ,     0.        ,     0.        ],\n",
       "       [ -343.75      ,  1377.00888889, -1031.25      , ...,\n",
       "            0.        ,     0.        ,     0.        ],\n",
       "       [    0.        ,  -515.625     ,  1377.00888889, ...,\n",
       "            0.        ,     0.        ,     0.        ],\n",
       "       ...,\n",
       "       [    0.        ,     0.        ,     0.        , ...,\n",
       "         1377.00888889,  -687.84478435,     0.        ],\n",
       "       [    0.        ,     0.        ,     0.        , ...,\n",
       "         -687.15556112,  1377.00888889,  -687.84443888],\n",
       "       [    0.        ,     0.        ,     0.        , ...,\n",
       "            0.        , -1375.        ,  1377.00888889]])"
      ]
     },
     "execution_count": 9,
     "metadata": {},
     "output_type": "execute_result"
    }
   ],
   "source": [
    "P"
   ]
  },
  {
   "cell_type": "code",
   "execution_count": 10,
   "metadata": {},
   "outputs": [],
   "source": [
    "# краевое условие\n",
    "w[:,0] = 0 # при t = 0"
   ]
  },
  {
   "cell_type": "code",
   "execution_count": 11,
   "metadata": {
    "scrolled": true
   },
   "outputs": [
    {
     "data": {
      "text/plain": [
       "(1000, 1)"
      ]
     },
     "execution_count": 11,
     "metadata": {},
     "output_type": "execute_result"
    }
   ],
   "source": [
    "q = np.zeros((1,num_i))\n",
    "for i in range(num_i):\n",
    "    q[0,i] = beta/l*intensive(i)\n",
    "q.T.shape"
   ]
  },
  {
   "cell_type": "code",
   "execution_count": 12,
   "metadata": {},
   "outputs": [],
   "source": [
    "for m in range(0,num_m-1): # идем послойно, по времени\n",
    "    right_column = (h_const*w[:,m]+q).T\n",
    "    w[:,m+1] = np.linalg.solve(P,right_column)[:,0]"
   ]
  },
  {
   "cell_type": "code",
   "execution_count": 24,
   "metadata": {
    "scrolled": false
   },
   "outputs": [
    {
     "data": {
      "image/png": "[encoded data removed]",
      "text/plain": [
       "<Figure size 432x288 with 1 Axes>"
      ]
     },
     "metadata": {
      "needs_background": "light"
     },
     "output_type": "display_data"
    }
   ],
   "source": [
    "#plt.ylim((-1.1, 0.5))\n",
    "plt.plot(r_arr, w[:,0])\n",
    "plt.ylabel('w')\n",
    "plt.xlabel('r')\n",
    "plt.grid(True) \n",
    "plt.show()"
   ]
  },
  {
   "cell_type": "code",
   "execution_count": 25,
   "metadata": {
    "scrolled": true
   },
   "outputs": [
    {
     "data": {
      "image/png": "[encoded data removed]",
      "text/plain": [
       "<Figure size 432x288 with 1 Axes>"
      ]
     },
     "metadata": {
      "needs_background": "light"
     },
     "output_type": "display_data"
    }
   ],
   "source": [
    "plt.ylim((-0.0005, 0.0085))\n",
    "plt.plot(r_arr, w[:,1])\n",
    "plt.ylabel('w')\n",
    "plt.xlabel('r')\n",
    "plt.grid(True) \n",
    "plt.show()"
   ]
  },
  {
   "cell_type": "code",
   "execution_count": 26,
   "metadata": {},
   "outputs": [],
   "source": [
    "#w[:,99]"
   ]
  },
  {
   "cell_type": "code",
   "execution_count": 27,
   "metadata": {},
   "outputs": [
    {
     "data": {
      "image/png": "[encoded data removed]",
      "text/plain": [
       "<Figure size 432x288 with 1 Axes>"
      ]
     },
     "metadata": {
      "needs_background": "light"
     },
     "output_type": "display_data"
    }
   ],
   "source": [
    "t_arr = np.linspace(0,t, num_m)\n",
    "plt.ylim((-0.0005, 0.0085))\n",
    "plt.plot(t_arr, w[0,:])\n",
    "plt.ylabel('w')\n",
    "plt.xlabel('t')\n",
    "plt.grid(True) \n",
    "plt.show()"
   ]
  },
  {
   "cell_type": "code",
   "execution_count": 28,
   "metadata": {},
   "outputs": [
    {
     "data": {
      "image/png": "[encoded data removed]",
      "text/plain": [
       "<Figure size 432x288 with 2 Axes>"
      ]
     },
     "metadata": {
      "needs_background": "light"
     },
     "output_type": "display_data"
    }
   ],
   "source": [
    "import matplotlib.cm as cmap\n",
    "plt.imshow(w, cmap=cmap.hot)\n",
    "plt.colorbar()\n",
    "plt.show()"
   ]
  }
 ],
 "metadata": {
  "kernelspec": {
   "display_name": "Python 3",
   "language": "python",
   "name": "python3"
  },
  "language_info": {
   "codemirror_mode": {
    "name": "ipython",
    "version": 3
   },
   "file_extension": ".py",
   "mimetype": "text/x-python",
   "name": "python",
   "nbconvert_exporter": "python",
   "pygments_lexer": "ipython3",
   "version": "3.5.2"
  }
 },
 "nbformat": 4,
 "nbformat_minor": 2
}
