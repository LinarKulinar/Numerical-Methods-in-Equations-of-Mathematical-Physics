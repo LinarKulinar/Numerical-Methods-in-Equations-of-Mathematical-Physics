{
 "cells": [
  {
   "cell_type": "code",
   "execution_count": 4,
   "metadata": {},
   "outputs": [],
   "source": [
    "import numpy as np\n",
    "import matplotlib.pyplot as plt"
   ]
  },
  {
   "cell_type": "code",
   "execution_count": 5,
   "metadata": {},
   "outputs": [],
   "source": [
    "# Данные константы\n",
    "k = 0.011\n",
    "c = 1.6\n",
    "alpha = 0.5\n",
    "l = 0.5 # длина цилиндра\n",
    "radius = 4 # радиус\n",
    "beta = 0.008\n",
    "t = 180 # время наблюдения"
   ]
  },
  {
   "cell_type": "code",
   "execution_count": 6,
   "metadata": {},
   "outputs": [],
   "source": [
    "# Задаем число отсчетов и шаги\n",
    "num_m = 1000\n",
    "num_i = 1000\n",
    "tau = t/num_m # шаг по времени\n",
    "h = radius/num_i # шаг по координате r\n",
    "w = np.zeros((num_i, num_m))\n",
    "\n",
    "def intensive(i): #зависимость\n",
    "    assert i<num_i, \"функция intensive(r) определена только для r>radius\"\n",
    "    r = i/num_i*radius\n",
    "    if r == 0:\n",
    "        return 5\n",
    "    else:\n",
    "        return 1/r"
   ]
  },
  {
   "cell_type": "code",
   "execution_count": 7,
   "metadata": {},
   "outputs": [],
   "source": [
    "# краевое условие\n",
    "w[:,0] = 0 # при t = 0"
   ]
  },
  {
   "cell_type": "code",
   "execution_count": 8,
   "metadata": {},
   "outputs": [
    {
     "name": "stderr",
     "output_type": "stream",
     "text": [
      "/home/kulinar/dlcourse_ai/.venv/lib/python3.5/site-packages/ipykernel_launcher.py:2: RuntimeWarning: overflow encountered in double_scalars\n",
      "  \n",
      "/home/kulinar/dlcourse_ai/.venv/lib/python3.5/site-packages/ipykernel_launcher.py:5: RuntimeWarning: overflow encountered in double_scalars\n",
      "  \"\"\"\n",
      "/home/kulinar/dlcourse_ai/.venv/lib/python3.5/site-packages/ipykernel_launcher.py:5: RuntimeWarning: invalid value encountered in double_scalars\n",
      "  \"\"\"\n",
      "/home/kulinar/dlcourse_ai/.venv/lib/python3.5/site-packages/ipykernel_launcher.py:2: RuntimeWarning: invalid value encountered in double_scalars\n",
      "  \n",
      "/home/kulinar/dlcourse_ai/.venv/lib/python3.5/site-packages/ipykernel_launcher.py:7: RuntimeWarning: overflow encountered in double_scalars\n",
      "  import sys\n",
      "/home/kulinar/dlcourse_ai/.venv/lib/python3.5/site-packages/ipykernel_launcher.py:7: RuntimeWarning: invalid value encountered in double_scalars\n",
      "  import sys\n"
     ]
    }
   ],
   "source": [
    "for m in range(0,num_m-1): # идем послойно по m\n",
    "    w[0,m+1] = w[0,m] + tau/c*(4*k/h**2*(w[0,m]-w[1,m])-2*alpha/l*w[0,m]+beta/l*intensive(0))\n",
    "    for i in range(1, num_i-2): # считаем каждый из i-ых элементов на слое m\n",
    "        w[i,m+1] = w[i,m] + tau/c*(k/2/i/h**2*(w[i-1,m]-w[i+1,m])+\n",
    "                                   k/h**2*(w[i-1,m]-2*w[i,m]-w[i+1,m])-2*alpha/l*w[i,m]+beta/l*intensive(i))\n",
    "    w[num_i-1,m+1] = w[num_i-1,m] + tau/c*(2*k/h**2*(w[num_i-2,m]-w[num_i-1,m])\n",
    "                                           -2*alpha/l*w[num_i-1,m]+beta/l*intensive(num_i-1))\n",
    "    "
   ]
  },
  {
   "cell_type": "code",
   "execution_count": 11,
   "metadata": {},
   "outputs": [],
   "source": [
    "def a(i):\n",
    "    return k/(h**2)*(1/2/i + 1)\n",
    "def b(i):\n",
    "    return 2*c/h + 2*k/(h**2) + 2*alpha/l\n",
    "def c(i):\n",
    "    return -k/(2*i*h**2) - k/(h**2)"
   ]
  },
  {
   "cell_type": "code",
   "execution_count": null,
   "metadata": {},
   "outputs": [],
   "source": []
  }
 ],
 "metadata": {
  "kernelspec": {
   "display_name": "Python 3",
   "language": "python",
   "name": "python3"
  },
  "language_info": {
   "codemirror_mode": {
    "name": "ipython",
    "version": 3
   },
   "file_extension": ".py",
   "mimetype": "text/x-python",
   "name": "python",
   "nbconvert_exporter": "python",
   "pygments_lexer": "ipython3",
   "version": "3.5.2"
  }
 },
 "nbformat": 4,
 "nbformat_minor": 2
}
