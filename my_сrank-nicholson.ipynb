{
 "cells": [
  {
   "cell_type": "code",
   "execution_count": 1,
   "metadata": {},
   "outputs": [],
   "source": [
    "import numpy as np\n",
    "import matplotlib.pyplot as plt"
   ]
  },
  {
   "cell_type": "code",
   "execution_count": 2,
   "metadata": {},
   "outputs": [],
   "source": [
    "# Данные константы\n",
    "k = 0.011  # (Вт/см/K)\n",
    "c = 1.6  # (Дж/см3/K)\n",
    "alpha = 0.005  # (Вт/см2/K)\n",
    "l = 0.5  # длина цилиндра (см)\n",
    "radius = 4  # радиус (см)\n",
    "beta = 0.008  # (1/см)\n",
    "t = 180  # время наблюдения (c)\n",
    "u0 = 0  # температура окружающей среды (K)"
   ]
  },
  {
   "cell_type": "code",
   "execution_count": 3,
   "metadata": {},
   "outputs": [],
   "source": [
    "# Задаем число отсчетов и шаги\n",
    "num_m = 100\n",
    "num_i = 101\n",
    "tau = t/num_m # шаг по времени\n",
    "r_arr = np.linspace(0,radius,num_i) # массив точек распредленных [0,R]\n",
    "t_arr = np.linspace(0,t, num_m)\n",
    "h = radius/num_i # шаг по координате r\n",
    "w = np.zeros((num_i, num_m))"
   ]
  },
  {
   "cell_type": "code",
   "execution_count": 4,
   "metadata": {},
   "outputs": [],
   "source": [
    "import scipy.optimize\n",
    "def bessel(x):\n",
    "    return scipy.special.jv(1,x)\n",
    "res = scipy.optimize.root(bessel, 3.8) # нахождение нуля функции в окрестности точки x = 3.8\n",
    "mu1 = float(res.get('x'))  # первый нуль функции бесселя первого порядка"
   ]
  },
  {
   "cell_type": "code",
   "execution_count": 5,
   "metadata": {},
   "outputs": [],
   "source": [
    "def intensive(i): # интенсивность в i-ой точке\n",
    "    #assert i<num_i, \"функция intensive(r) определена только для r<radius\"\n",
    "    return scipy.special.jv(0, mu1*i*h/radius)"
   ]
  },
  {
   "cell_type": "code",
   "execution_count": 6,
   "metadata": {},
   "outputs": [
    {
     "data": {
      "image/png": "[encoded data removed]",
      "text/plain": [
       "<Figure size 432x288 with 1 Axes>"
      ]
     },
     "metadata": {
      "needs_background": "light"
     },
     "output_type": "display_data"
    }
   ],
   "source": [
    "plt.plot(r_arr,scipy.special.jv(0, mu1*r_arr/radius)) #нарисуем интенсивность\n",
    "plt.ylabel('Интенсивность (K*см^2)')\n",
    "plt.xlabel('Радиус (см)')\n",
    "plt.grid(True) \n",
    "plt.show()"
   ]
  },
  {
   "cell_type": "code",
   "execution_count": 7,
   "metadata": {},
   "outputs": [],
   "source": [
    "a_p = c/tau+2*k/h**2+alpha/l\n",
    "b_p = -2*k/h**2\n",
    "def c_p(i):\n",
    "    return -k/(2*h**2) + k/(2*h*i*h)\n",
    "d_p = c/tau + k/h**2 + alpha/l\n",
    "def e_p(i):\n",
    "    return -k/h**2 - k/(4*h*i*h)\n",
    "f_p = -k/h**2\n",
    "g_p = c/tau + k/h**2 + alpha/l\n",
    "# def q_p(i):\n",
    "#     return beta/l*intensive(i)"
   ]
  },
  {
   "cell_type": "code",
   "execution_count": 8,
   "metadata": {},
   "outputs": [],
   "source": [
    "a_q = c/tau - 2*k/h**2 - alpha/l\n",
    "b_q = 2*k/h**2\n",
    "def c_q(i):\n",
    "    return k/(2*h**2) - k/(4*h*i*h)\n",
    "d_q = c/tau - k/h**2 - alpha/l\n",
    "def e_q(i):\n",
    "    return k/(2*h**2) + k/(4*h*i*h)\n",
    "f_q = k/h**2\n",
    "g_q = c/tau - k/h**2 - alpha/l"
   ]
  },
  {
   "cell_type": "code",
   "execution_count": 9,
   "metadata": {},
   "outputs": [],
   "source": [
    "P = np.zeros((num_i, num_i))\n",
    "P[0,0] = a_p\n",
    "P[0,1] = b_p\n",
    "for i in range(1,num_i-1):  # по всем индексам кроме нулевого и последнего\n",
    "    P[i,i-1] = c_p(i)\n",
    "    P[i,i] = d_p\n",
    "    P[i,i+1] = e_p(i)\n",
    "P[-1,-2] = f_p\n",
    "P[-1,-1] = g_p"
   ]
  },
  {
   "cell_type": "code",
   "execution_count": 10,
   "metadata": {},
   "outputs": [],
   "source": [
    "Q = np.zeros((num_i, num_i))Lf h\n",
    "Q[0,0] = a_q\n",
    "Q[0,1] = b_q\n",
    "for i in range(1,num_i-1):  # по всем индексам кроме нулевого и последнего\n",
    "    Q[i,i-1] = c_q(i)\n",
    "    Q[i,i] = d_q\n",
    "    Q[i,i+1] = e_q(i)\n",
    "Q[-1,-2] = f_q\n",
    "Q[-1,-1] = g_q"
   ]
  },
  {
   "cell_type": "code",
   "execution_count": 11,
   "metadata": {},
   "outputs": [],
   "source": [
    "# краевое условие\n",
    "w[:,0] = 0 # при t = 0"
   ]
  },
  {
   "cell_type": "code",
   "execution_count": 12,
   "metadata": {},
   "outputs": [
    {
     "data": {
      "text/plain": [
       "(101, 1)"
      ]
     },
     "execution_count": 12,
     "metadata": {},
     "output_type": "execute_result"
    }
   ],
   "source": [
    "q = np.zeros((1,num_i))\n",
    "for i in range(num_i):\n",
    "    q[0,i] = beta/l*intensive(i)\n",
    "q.T.shape"
   ]
  },
  {
   "cell_type": "code",
   "execution_count": 18,
   "metadata": {},
   "outputs": [
    {
     "data": {
      "text/plain": [
       "(101, 101)"
      ]
     },
     "execution_count": 18,
     "metadata": {},
     "output_type": "execute_result"
    }
   ],
   "source": [
    "Q.shape"
   ]
  },
  {
   "cell_type": "code",
   "execution_count": 26,
   "metadata": {},
   "outputs": [
    {
     "data": {
      "text/plain": [
       "(101, 101)"
      ]
     },
     "execution_count": 26,
     "metadata": {},
     "output_type": "execute_result"
    }
   ],
   "source": [
    "right_column = (Q.dot(w[:,1])+q.T)\n",
    "right_column.shape"
   ]
  },
  {
   "cell_type": "code",
   "execution_count": 13,
   "metadata": {},
   "outputs": [],
   "source": [
    "for m in range(0,num_m-1): # идем послойно, по времени\n",
    "    right_column = (Q.dot(w[:,m])+q).T\n",
    "    w[:,m+1] = np.linalg.solve(P,right_column)[:,0]"
   ]
  },
  {
   "cell_type": "code",
   "execution_count": 14,
   "metadata": {},
   "outputs": [],
   "source": [
    "v = w + u0"
   ]
  },
  {
   "cell_type": "code",
   "execution_count": 15,
   "metadata": {},
   "outputs": [
    {
     "data": {
      "image/png": "[encoded data removed]",
      "text/plain": [
       "<Figure size 432x288 with 1 Axes>"
      ]
     },
     "metadata": {
      "needs_background": "light"
     },
     "output_type": "display_data"
    }
   ],
   "source": [
    "plt.plot(r_arr,v[:,0]) # распредление по радиусу в начальный момент времени\n",
    "plt.ylim((-0.0002, 0.0092))\n",
    "plt.ylabel('Температура (K)')\n",
    "plt.xlabel('Радиус (см)')\n",
    "plt.grid(True) \n",
    "plt.show()"
   ]
  },
  {
   "cell_type": "code",
   "execution_count": 16,
   "metadata": {},
   "outputs": [
    {
     "data": {
      "image/png": "[encoded data removed]",
      "text/plain": [
       "<Figure size 432x288 with 1 Axes>"
      ]
     },
     "metadata": {
      "needs_background": "light"
     },
     "output_type": "display_data"
    }
   ],
   "source": [
    "plt.plot(r_arr,v[:,1]) # распредление по радиусу во время второго отсчета по времени\n",
    "#plt.ylim((-0.0002, 0.0084))\n",
    "plt.ylabel('Температура (K)')\n",
    "plt.xlabel('Радиус (см)')\n",
    "plt.grid(True) \n",
    "plt.show()"
   ]
  },
  {
   "cell_type": "code",
   "execution_count": 17,
   "metadata": {},
   "outputs": [
    {
     "data": {
      "image/png": "[encoded data removed]",
      "text/plain": [
       "<Figure size 432x288 with 2 Axes>"
      ]
     },
     "metadata": {
      "needs_background": "light"
     },
     "output_type": "display_data"
    }
   ],
   "source": [
    "import matplotlib.cm as cmap\n",
    "extent = [np.min(t_arr), np.max(t_arr), np.max(r_arr), np.min(r_arr)]\n",
    "plt.imshow(v, cmap=cmap.hot, aspect='auto', extent=extent)\n",
    "plt.title(\"Тепловая карта температуры цилиндра\")\n",
    "plt.ylabel('Радиус (см)')\n",
    "plt.xlabel('Время (с)')\n",
    "plt.colorbar()\n",
    "plt.show()"
   ]
  },
  {
   "cell_type": "code",
   "execution_count": null,
   "metadata": {},
   "outputs": [],
   "source": []
  },
  {
   "cell_type": "code",
   "execution_count": null,
   "metadata": {},
   "outputs": [],
   "source": []
  }
 ],
 "metadata": {
  "kernelspec": {
   "display_name": "Python 3",
   "language": "python",
   "name": "python3"
  },
  "language_info": {
   "codemirror_mode": {
    "name": "ipython",
    "version": 3
   },
   "file_extension": ".py",
   "mimetype": "text/x-python",
   "name": "python",
   "nbconvert_exporter": "python",
   "pygments_lexer": "ipython3",
   "version": "3.5.2"
  }
 },
 "nbformat": 4,
 "nbformat_minor": 4
}
